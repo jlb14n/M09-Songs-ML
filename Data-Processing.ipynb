{
 "cells": [
  {
   "cell_type": "code",
   "execution_count": 160,
   "metadata": {},
   "outputs": [],
   "source": [
    "import pandas as pd\n",
    "import numpy as np\n",
    "from sklearn.impute import SimpleImputer\n",
    "import datetime as dt"
   ]
  },
  {
   "cell_type": "code",
   "execution_count": 161,
   "metadata": {},
   "outputs": [
    {
     "name": "stdout",
     "output_type": "stream",
     "text": [
      "<class 'pandas.core.frame.DataFrame'>\n",
      "RangeIndex: 1994 entries, 0 to 1993\n",
      "Data columns (total 16 columns):\n",
      " #   Column                  Non-Null Count  Dtype  \n",
      "---  ------                  --------------  -----  \n",
      " 0   Index                   1994 non-null   int64  \n",
      " 1   Title                   1991 non-null   object \n",
      " 2   Artist                  1986 non-null   object \n",
      " 3   Top Genre               1986 non-null   object \n",
      " 4   Year                    1987 non-null   float64\n",
      " 5   Month                   1994 non-null   object \n",
      " 6   Beats Per Minute (BPM)  1985 non-null   float64\n",
      " 7   Energy                  1986 non-null   float64\n",
      " 8   Danceability            970 non-null    float64\n",
      " 9   Loudness (dB)           1987 non-null   float64\n",
      " 10  Liveness                1986 non-null   float64\n",
      " 11  Valence                 960 non-null    float64\n",
      " 12  Length (Duration)       1985 non-null   object \n",
      " 13  Acousticness            1986 non-null   float64\n",
      " 14  Speechiness             1990 non-null   float64\n",
      " 15  Popularity              1987 non-null   float64\n",
      "dtypes: float64(10), int64(1), object(5)\n",
      "memory usage: 249.4+ KB\n"
     ]
    }
   ],
   "source": [
    "songs=pd.read_csv('ml-03-data-processing-songs-dataset.csv')\n",
    "songs.info()"
   ]
  },
  {
   "cell_type": "code",
   "execution_count": 162,
   "metadata": {},
   "outputs": [
    {
     "name": "stdout",
     "output_type": "stream",
     "text": [
      "<class 'pandas.core.frame.DataFrame'>\n",
      "RangeIndex: 1994 entries, 0 to 1993\n",
      "Data columns (total 16 columns):\n",
      " #   Column                  Non-Null Count  Dtype  \n",
      "---  ------                  --------------  -----  \n",
      " 0   Index                   1994 non-null   int64  \n",
      " 1   Title                   1991 non-null   object \n",
      " 2   Artist                  1986 non-null   object \n",
      " 3   Top Genre               1986 non-null   object \n",
      " 4   Year                    1987 non-null   float64\n",
      " 5   Month                   1994 non-null   int64  \n",
      " 6   Beats Per Minute (BPM)  1985 non-null   float64\n",
      " 7   Energy                  1986 non-null   float64\n",
      " 8   Danceability            970 non-null    float64\n",
      " 9   Loudness (dB)           1987 non-null   float64\n",
      " 10  Liveness                1986 non-null   float64\n",
      " 11  Valence                 960 non-null    float64\n",
      " 12  Length (Duration)       1985 non-null   float64\n",
      " 13  Acousticness            1986 non-null   float64\n",
      " 14  Speechiness             1990 non-null   float64\n",
      " 15  Popularity              1987 non-null   float64\n",
      "dtypes: float64(11), int64(2), object(3)\n",
      "memory usage: 249.4+ KB\n"
     ]
    }
   ],
   "source": [
    "### 1. Data Hygiene ###\n",
    "\n",
    "#Month - Convert str rows to numeric after converting 3 letter abbreviation to numerics (i.e. Jan->1)\n",
    "songs['Month']=songs['Month'].apply(lambda x: dt.datetime.strptime(x,'%b').month if not x.isnumeric() else int(x))\n",
    "\n",
    "#Length - Convert str rows to numeric after removing commas\n",
    "songs['Length (Duration)']=songs['Length (Duration)'].apply(lambda x: float(x.replace(',','')) if isinstance(x,str) else x)\n",
    "\n",
    "#Year - There is a \"92\" that is a recording error\n",
    "songs['Year']=songs['Year'].apply(lambda x: x+1900 if x==92 else x)\n",
    "\n",
    "songs.info()"
   ]
  },
  {
   "cell_type": "code",
   "execution_count": 163,
   "metadata": {},
   "outputs": [
    {
     "name": "stdout",
     "output_type": "stream",
     "text": [
      "<class 'pandas.core.frame.DataFrame'>\n",
      "Int64Index: 1987 entries, 0 to 1993\n",
      "Data columns (total 14 columns):\n",
      " #   Column                  Non-Null Count  Dtype  \n",
      "---  ------                  --------------  -----  \n",
      " 0   Index                   1987 non-null   int64  \n",
      " 1   Title                   1987 non-null   object \n",
      " 2   Artist                  1984 non-null   object \n",
      " 3   Top Genre               1983 non-null   object \n",
      " 4   Year                    1984 non-null   float64\n",
      " 5   Month                   1987 non-null   int64  \n",
      " 6   Beats Per Minute (BPM)  1983 non-null   float64\n",
      " 7   Energy                  1983 non-null   float64\n",
      " 8   Loudness (dB)           1983 non-null   float64\n",
      " 9   Liveness                1983 non-null   float64\n",
      " 10  Length (Duration)       1982 non-null   float64\n",
      " 11  Acousticness            1984 non-null   float64\n",
      " 12  Speechiness             1986 non-null   float64\n",
      " 13  Popularity              1985 non-null   float64\n",
      "dtypes: float64(9), int64(2), object(3)\n",
      "memory usage: 232.9+ KB\n"
     ]
    }
   ],
   "source": [
    "### 2. Missing Values ###\n",
    "\n",
    "#Remove rows where at least 50% of the values are missing\n",
    "songs.dropna(axis=0,thresh=len(songs.columns)/2,inplace=True)\n",
    "\n",
    "#Remove columns where at least 50% of the values are missing\n",
    "songs.dropna(axis=1,thresh=len(songs)/2,inplace=True)\n",
    "\n",
    "songs.info()"
   ]
  },
  {
   "cell_type": "code",
   "execution_count": 164,
   "metadata": {},
   "outputs": [
    {
     "name": "stdout",
     "output_type": "stream",
     "text": [
      "Nonoutlier range in Beats Per Minute (BPM): (34.31, 206.15)\n",
      "Outlier List:\n",
      "[ 15.  18. 297. 305.]\n",
      "\n",
      "Nonoutlier range in Loudness (dB): (-19.97, 1.95)\n",
      "Outlier List:\n",
      "[-27. -24. -24. -22. -22. -22. -22. -22. -22. -21. -21. -21. -21. -21.\n",
      " -21. -21. -21. -20. -20. -20. -20. -20.]\n",
      "\n",
      "Nonoutlier range in Liveness: (-31.23, 69.27)\n",
      "Outlier List:\n",
      "[70. 70. 70. 71. 71. 72. 72. 73. 73. 73. 73. 76. 76. 76. 76. 76. 77. 77.\n",
      " 78. 78. 79. 80. 81. 81. 82. 83. 83. 84. 85. 85. 85. 85. 86. 87. 87. 89.\n",
      " 90. 91. 91. 92. 92. 93. 93. 94. 95. 95. 96. 96. 96. 97. 97. 97. 97. 97.\n",
      " 98. 99. 99.]\n",
      "\n",
      "Nonoutlier range in Length (Duration): (-18.84, 544.08)\n",
      "Outlier List:\n",
      "[ 559.  564.  575.  576.  581.  590.  598.  598.  602.  620.  629.  639.\n",
      "  653.  659.  663.  671.  703.  715.  809.  811.  859.  966. 1121. 1292.\n",
      " 1367. 1412.]\n",
      "\n",
      "Nonoutlier range in Speechiness: (-8.23, 18.21)\n",
      "Outlier List:\n",
      "[19. 19. 19. 19. 19. 20. 20. 20. 20. 22. 23. 23. 23. 24. 24. 24. 24. 25.\n",
      " 25. 26. 26. 27. 28. 29. 30. 30. 30. 30. 31. 31. 31. 32. 32. 32. 36. 38.\n",
      " 39. 39. 41. 44. 46. 55.]\n",
      "\n",
      "Nonoutlier range in Popularity: (16.41, 102.61)\n",
      "Outlier List:\n",
      "[11. 12. 13. 14. 15. 15. 16. 16. 16.]\n",
      "\n"
     ]
    }
   ],
   "source": [
    "### 3. Descriptive Statistics/Outliers ###\n",
    "outliers={} #A dictionary to easily see which columns have outliers and what values the outliers are\n",
    "for column in songs.columns:\n",
    "    if column in [\"Index\",\"Title\",\"Artist\",\"Top Genre\"]:\n",
    "        continue\n",
    "    else:\n",
    "        minflag=songs[column].mean()-3*songs[column].std()\n",
    "        maxflag=songs[column].mean()+3*songs[column].std()\n",
    "        if songs[column].min()<minflag or songs[column].max()>maxflag:            \n",
    "            outliers[column]=songs[(songs[column]>maxflag)|(songs[column]<minflag)][column].sort_values().values\n",
    "            print(f\"Nonoutlier range in {column}: ({round(minflag,2)}, {round(maxflag,2)})\")\n",
    "            print('Outlier List:')\n",
    "            print(outliers[column])\n",
    "            print('')\n",
    "        else:\n",
    "            continue"
   ]
  },
  {
   "cell_type": "code",
   "execution_count": 165,
   "metadata": {},
   "outputs": [
    {
     "name": "stdout",
     "output_type": "stream",
     "text": [
      "<class 'pandas.core.frame.DataFrame'>\n",
      "Int64Index: 1987 entries, 0 to 1993\n",
      "Data columns (total 14 columns):\n",
      " #   Column                  Non-Null Count  Dtype  \n",
      "---  ------                  --------------  -----  \n",
      " 0   Index                   1987 non-null   float64\n",
      " 1   Title                   1987 non-null   object \n",
      " 2   Artist                  1987 non-null   object \n",
      " 3   Top Genre               1987 non-null   object \n",
      " 4   Year                    1987 non-null   float64\n",
      " 5   Month                   1987 non-null   float64\n",
      " 6   Beats Per Minute (BPM)  1987 non-null   float64\n",
      " 7   Energy                  1987 non-null   float64\n",
      " 8   Loudness (dB)           1987 non-null   float64\n",
      " 9   Liveness                1987 non-null   float64\n",
      " 10  Length (Duration)       1987 non-null   float64\n",
      " 11  Acousticness            1987 non-null   float64\n",
      " 12  Speechiness             1987 non-null   float64\n",
      " 13  Popularity              1987 non-null   float64\n",
      "dtypes: float64(11), object(3)\n",
      "memory usage: 232.9+ KB\n"
     ]
    }
   ],
   "source": [
    "### 4. Missing Values ###\n",
    "\n",
    "#Without using scikit-learn\n",
    "# for column in songs.columns:\n",
    "#     if column in [\"Index\",\"Title\"]:\n",
    "#         continue\n",
    "#     elif column in [\"Artist\",\"Top Genre\"]:\n",
    "#         songs[column].fillna(songs[column].mode(),inplace=True)\n",
    "#     else:\n",
    "#         songs[column].fillna(songs[column].mean(),inplace=True)\n",
    "\n",
    "# Replace categorical columns with the mode\n",
    "cat_cols=list(songs.select_dtypes('object').columns)\n",
    "imp_cat=SimpleImputer(missing_values=np.nan, strategy='most_frequent')\n",
    "songs[cat_cols]=imp_cat.fit_transform(songs[cat_cols])\n",
    "\n",
    "# Replace continuous columns with the mean\n",
    "con_cols=list(songs.select_dtypes(['float64','int64']).columns)\n",
    "imp_con=SimpleImputer(missing_values=np.nan, strategy='mean')\n",
    "songs[con_cols]=imp_con.fit_transform(songs[con_cols])\n",
    "\n",
    "songs.info()"
   ]
  },
  {
   "cell_type": "code",
   "execution_count": 166,
   "metadata": {},
   "outputs": [
    {
     "data": {
      "text/plain": [
       "0       17.306849\n",
       "1       21.895890\n",
       "2       20.643836\n",
       "3       15.054795\n",
       "4       19.476712\n",
       "          ...    \n",
       "1989    63.841096\n",
       "1990    63.673973\n",
       "1991    62.841096\n",
       "1992    62.339726\n",
       "1993    62.673973\n",
       "Name: Age, Length: 1987, dtype: float64"
      ]
     },
     "execution_count": 166,
     "metadata": {},
     "output_type": "execute_result"
    }
   ],
   "source": [
    "### 5. Create an Age column and drop the other date columns ###\n",
    "\n",
    "songs['Date']=pd.to_datetime(songs['Year'].apply(lambda x: str(round(x)))+'-'+songs['Month'].apply(lambda x: str(round(x)).zfill(2))+'-01',format='%Y-%m-%d')\n",
    "songs['Age']=(dt.datetime.today()-songs['Date']).apply(lambda x: x.days/365)\n",
    "songs.drop(columns=['Date','Year','Month'],inplace=True)\n",
    "songs['Age']"
   ]
  },
  {
   "cell_type": "code",
   "execution_count": 167,
   "metadata": {},
   "outputs": [],
   "source": [
    "### 6. Create dummy variables for the categorical features ###\n",
    "#Drop Title?\n",
    "#songs.drop('Title',inplace=True)\n",
    "\n",
    "songs=pd.get_dummies(songs,drop_first=True)\n"
   ]
  },
  {
   "cell_type": "markdown",
   "metadata": {},
   "source": [
    "### THIS IS THE END OF EXERCISE: DATA PROCESSING "
   ]
  }
 ],
 "metadata": {
  "interpreter": {
   "hash": "fb7be012fec41f1bfe6ca933958bc75a4e86ed8e44551a4face8c03be643bc3b"
  },
  "kernelspec": {
   "display_name": "Python 3.9.7 64-bit ('base': conda)",
   "language": "python",
   "name": "python3"
  },
  "language_info": {
   "codemirror_mode": {
    "name": "ipython",
    "version": 3
   },
   "file_extension": ".py",
   "mimetype": "text/x-python",
   "name": "python",
   "nbconvert_exporter": "python",
   "pygments_lexer": "ipython3",
   "version": "3.9.7"
  },
  "orig_nbformat": 4
 },
 "nbformat": 4,
 "nbformat_minor": 2
}
